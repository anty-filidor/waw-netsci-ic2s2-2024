{
 "cells": [
  {
   "cell_type": "markdown",
   "metadata": {},
   "source": [
    "# Example I"
   ]
  },
  {
   "cell_type": "code",
   "execution_count": null,
   "metadata": {},
   "outputs": [],
   "source": [
    "import matplotlib.pyplot as plt\n",
    "import networkx as nx\n",
    "import network_diffusion as nd"
   ]
  },
  {
   "cell_type": "markdown",
   "metadata": {},
   "source": [
    "### Load the network"
   ]
  },
  {
   "cell_type": "code",
   "execution_count": null,
   "metadata": {},
   "outputs": [],
   "source": [
    "network = nd.mln.functions.get_toy_network_piotr()"
   ]
  },
  {
   "cell_type": "code",
   "execution_count": null,
   "metadata": {},
   "outputs": [],
   "source": [
    "pos = nx.drawing.shell_layout([a.actor_id for a in network.get_actors()])\n",
    "fig, axs = plt.subplots(nrows=1, ncols=3)\n",
    "for idx, (layer_name, layer_graph) in enumerate(network.layers.items()):\n",
    "    axs[idx].set_title(layer_name)\n",
    "    nx.draw(layer_graph, ax=axs[idx], pos=pos)\n",
    "    nx.drawing.draw_networkx_labels(layer_graph, ax=axs[idx], pos=pos)"
   ]
  },
  {
   "cell_type": "code",
   "execution_count": null,
   "metadata": {},
   "outputs": [],
   "source": [
    "print(network)"
   ]
  },
  {
   "cell_type": "markdown",
   "metadata": {},
   "source": [
    "###  Get the model"
   ]
  },
  {
   "cell_type": "code",
   "execution_count": null,
   "metadata": {},
   "outputs": [],
   "source": [
    "spreading_model = nd.models.MLTModel(\n",
    "    seeding_budget=[90, 10],                             # 90% act as non-activated, 10% as seeds\n",
    "    seed_selector=nd.seeding.VoteRankMLNSeedSelector(),  # pick infected act randomly\n",
    "    protocol=\"OR\",                                       # how to aggregate impulses from the network's layers\n",
    "    mi_value=0.5,                                        # a threshold\n",
    ")"
   ]
  },
  {
   "cell_type": "code",
   "execution_count": null,
   "metadata": {},
   "outputs": [],
   "source": [
    "print(spreading_model)"
   ]
  },
  {
   "cell_type": "markdown",
   "metadata": {},
   "source": [
    "### Perform the simulation"
   ]
  },
  {
   "cell_type": "code",
   "execution_count": null,
   "metadata": {},
   "outputs": [],
   "source": [
    "simulator = nd.Simulator(model=spreading_model, network=network)\n",
    "logs = simulator.perform_propagation(n_epochs=3)"
   ]
  },
  {
   "cell_type": "markdown",
   "metadata": {},
   "source": [
    "### Get the logs"
   ]
  },
  {
   "cell_type": "code",
   "execution_count": null,
   "metadata": {},
   "outputs": [],
   "source": [
    "# obtain detailed logs for each actor in the form of JSON\n",
    "logs.get_detailed_logs()"
   ]
  },
  {
   "cell_type": "code",
   "execution_count": null,
   "metadata": {},
   "outputs": [],
   "source": [
    "# or obtain aggregated logs for each of the network's layer\n",
    "logs.get_aggragated_logs()"
   ]
  },
  {
   "cell_type": "code",
   "execution_count": null,
   "metadata": {},
   "outputs": [],
   "source": [
    "# or just save a summary of the experiment with all the experiment's details\n",
    "logs.report(visualisation=True, path=\"my_experiment\")"
   ]
  }
 ],
 "metadata": {
  "kernelspec": {
   "display_name": "waw-2024",
   "language": "python",
   "name": "waw-2024"
  },
  "language_info": {
   "codemirror_mode": {
    "name": "ipython",
    "version": 3
   },
   "file_extension": ".py",
   "mimetype": "text/x-python",
   "name": "python",
   "nbconvert_exporter": "python",
   "pygments_lexer": "ipython3",
   "version": "3.10.14"
  }
 },
 "nbformat": 4,
 "nbformat_minor": 2
}
