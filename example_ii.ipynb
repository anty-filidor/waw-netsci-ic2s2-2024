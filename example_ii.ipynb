{
 "cells": [
  {
   "cell_type": "markdown",
   "metadata": {},
   "source": [
    "# Example II\n",
    "\n",
    "This experiment how to model coexisting phenomena"
   ]
  },
  {
   "cell_type": "code",
   "execution_count": null,
   "metadata": {},
   "outputs": [],
   "source": [
    "import network_diffusion as nd\n",
    "\n",
    "from tqdm import tqdm\n",
    "from utils import helpers, sir_ua_model, networks\n",
    "\n",
    "%load_ext autoreload\n",
    "%autoreload 2"
   ]
  },
  {
   "cell_type": "markdown",
   "metadata": {},
   "source": [
    "### Define parameters"
   ]
  },
  {
   "cell_type": "code",
   "execution_count": null,
   "metadata": {},
   "outputs": [],
   "source": [
    "# for the model\n",
    "ALPHA = 0.19\n",
    "ALPHA_PRIME = 0.35 * ALPHA\n",
    "BETA = 0.10\n",
    "GAMMA = 0.01\n",
    "DELTA = GAMMA + 1 - 0.3\n",
    "EPSILON = GAMMA\n",
    "\n",
    "# for the simulation\n",
    "N_EPOCHS = 60\n",
    "N_REPETITIONS = 10"
   ]
  },
  {
   "cell_type": "markdown",
   "metadata": {},
   "source": [
    "### Load the network"
   ]
  },
  {
   "cell_type": "code",
   "execution_count": null,
   "metadata": {},
   "outputs": [],
   "source": [
    "net, name = networks.get_aucs_network(file_path=\"networks/aucs.mpx\"), \"sir_ua_aucs\"\n",
    "print(net)"
   ]
  },
  {
   "cell_type": "markdown",
   "metadata": {},
   "source": [
    "### Load the model"
   ]
  },
  {
   "cell_type": "code",
   "execution_count": null,
   "metadata": {},
   "outputs": [],
   "source": [
    "model = sir_ua_model.SIR_UAModel(\n",
    "    alpha=ALPHA,\n",
    "    alpha_prime=ALPHA_PRIME,\n",
    "    beta=BETA,\n",
    "    gamma=GAMMA,\n",
    "    delta=DELTA,\n",
    "    ill_seeds=5,\n",
    "    aware_seeds=5,\n",
    ")\n",
    "print(model)"
   ]
  },
  {
   "cell_type": "markdown",
   "metadata": {},
   "source": [
    "### Perform the simulation"
   ]
  },
  {
   "cell_type": "code",
   "execution_count": null,
   "metadata": {},
   "outputs": [],
   "source": [
    "all_logs = []\n",
    "for i in tqdm(range(N_REPETITIONS)):\n",
    "    experiment = nd.Simulator(model, net.copy())\n",
    "    run_logs = experiment.perform_propagation(n_epochs=N_EPOCHS)\n",
    "    all_logs.append(run_logs)"
   ]
  },
  {
   "cell_type": "markdown",
   "metadata": {},
   "source": [
    "### Convert the logs and plot the results"
   ]
  },
  {
   "cell_type": "code",
   "execution_count": null,
   "metadata": {},
   "outputs": [],
   "source": [
    "mean_curve, std_curve = helpers.aggregate_results(all_logs)"
   ]
  },
  {
   "cell_type": "code",
   "execution_count": null,
   "metadata": {},
   "outputs": [],
   "source": [
    "helpers.visualise_spread(mean_curve, std_curve)"
   ]
  }
 ],
 "metadata": {
  "kernelspec": {
   "display_name": "waw-2024",
   "language": "python",
   "name": "waw-2024"
  },
  "language_info": {
   "codemirror_mode": {
    "name": "ipython",
    "version": 3
   },
   "file_extension": ".py",
   "mimetype": "text/x-python",
   "name": "python",
   "nbconvert_exporter": "python",
   "pygments_lexer": "ipython3",
   "version": "3.10.14"
  },
  "orig_nbformat": 4
 },
 "nbformat": 4,
 "nbformat_minor": 2
}
