{
 "cells": [
  {
   "cell_type": "markdown",
   "metadata": {},
   "source": [
    "# Example II\n",
    "\n",
    "This experiment how to model coexisting phenomena"
   ]
  },
  {
   "cell_type": "code",
   "execution_count": null,
   "metadata": {},
   "outputs": [],
   "source": [
    "import matplotlib.pyplot as plt\n",
    "import network_diffusion as nd\n",
    "import numpy as np\n",
    "import pandas as pd\n",
    "\n",
    "from tqdm import tqdm\n",
    "from utils import functions, models, networks\n",
    "\n",
    "%load_ext autoreload\n",
    "%autoreload 2"
   ]
  },
  {
   "cell_type": "code",
   "execution_count": null,
   "metadata": {},
   "outputs": [],
   "source": [
    "functions.set_seed(42)\n",
    "plt.rcParams.update({'font.size': 12})"
   ]
  },
  {
   "cell_type": "markdown",
   "metadata": {},
   "source": [
    "### Define parameters"
   ]
  },
  {
   "cell_type": "code",
   "execution_count": null,
   "metadata": {},
   "outputs": [],
   "source": [
    "# for the model\n",
    "ALPHA = 0.19\n",
    "ALPHA_PRIME = 0.35 * 0.19\n",
    "BETA = 0.10\n",
    "GAMMA = 0.01\n",
    "DELTA = GAMMA + 1 - 0.3\n",
    "EPSILON = GAMMA\n",
    "\n",
    "# for the simulation\n",
    "N_EPOCHS = 60\n",
    "PATIENCE = None\n",
    "N_REPETITIONS = 100"
   ]
  },
  {
   "cell_type": "markdown",
   "metadata": {},
   "source": [
    "### Load the network"
   ]
  },
  {
   "cell_type": "code",
   "execution_count": null,
   "metadata": {},
   "outputs": [],
   "source": [
    "net, name = networks.get_aucs_network(file_path=\"aucs.mpx\"), \"sir_ua_aucs\"\n",
    "print(net)"
   ]
  },
  {
   "cell_type": "markdown",
   "metadata": {},
   "source": [
    "### Load the model"
   ]
  },
  {
   "cell_type": "code",
   "execution_count": null,
   "metadata": {},
   "outputs": [],
   "source": [
    "model = models.SIR_UAModel(\n",
    "    alpha = ALPHA,\n",
    "    beta = BETA,\n",
    "    alpha_prime = ALPHA_PRIME,\n",
    "    beta_prime = BETA,\n",
    "    gamma = GAMMA,\n",
    "    delta = DELTA,\n",
    "    epsilon = EPSILON,\n",
    "    ill_seeds = 5,\n",
    "    aware_seeds = 5,\n",
    ")"
   ]
  },
  {
   "cell_type": "code",
   "execution_count": null,
   "metadata": {},
   "outputs": [],
   "source": [
    "print(model)"
   ]
  },
  {
   "cell_type": "markdown",
   "metadata": {},
   "source": [
    "### Perform the simulation"
   ]
  },
  {
   "cell_type": "code",
   "execution_count": null,
   "metadata": {},
   "outputs": [],
   "source": [
    "all_logs = []\n",
    "for i in tqdm(range(N_REPETITIONS)):\n",
    "    experiment = nd.Simulator(model, net.copy())\n",
    "    run_logs = experiment.perform_propagation(n_epochs=N_EPOCHS, patience=PATIENCE)\n",
    "    all_logs.append(run_logs._global_stats_converted)"
   ]
  },
  {
   "cell_type": "markdown",
   "metadata": {},
   "source": [
    "### Convert the logs and plot the results"
   ]
  },
  {
   "cell_type": "code",
   "execution_count": null,
   "metadata": {},
   "outputs": [],
   "source": [
    "mean_contagion = functions.get_mean_log([log[\"contagion\"] for log in all_logs])\n",
    "mean_awareness = functions.get_mean_log([log[\"awareness\"] for log in all_logs])\n",
    "mean_core = pd.DataFrame([mean_contagion[\"I\"], mean_awareness[\"A\"]]).T\n",
    "\n",
    "std_contagion = functions.get_std_log([log[\"contagion\"] for log in all_logs])\n",
    "std_awareness = functions.get_std_log([log[\"awareness\"] for log in all_logs])\n",
    "std_core = pd.DataFrame([std_contagion[\"I\"], std_awareness[\"A\"]]).T\n",
    "\n",
    "result = {\"mean\": mean_core, \"std\": std_core}"
   ]
  },
  {
   "cell_type": "code",
   "execution_count": null,
   "metadata": {},
   "outputs": [],
   "source": [
    "fig, ax = plt.subplots(nrows=1, ncols=2)\n",
    "fig.set_size_inches(10,5)\n",
    "colors = plt.cm.jet(np.linspace(0, 1, len(result) + 1))\n",
    "res_nb = 0\n",
    "\n",
    "_i = result[\"mean\"][\"I\"].to_numpy()\n",
    "_i_std = result[\"std\"][\"I\"].to_numpy()\n",
    "_a = result[\"mean\"][\"A\"].to_numpy()\n",
    "_a_std = result[\"std\"][\"A\"].to_numpy()\n",
    "_x = np.arange(0, len(_i))\n",
    "\n",
    "ax[0].plot(_x, _i, label=rf\"Infected\", color=colors[res_nb])\n",
    "ax[0].fill_between(_x, _i-_i_std, _i+_i_std, alpha=0.1, color=colors[res_nb])\n",
    "ax[1].plot(_x, _a, label=rf\"Aware\", color=colors[res_nb])\n",
    "ax[1].fill_between(_x, _a-_a_std, _a+_a_std, alpha=0.1, color=colors[res_nb])\n",
    "\n",
    "res_nb += 1\n",
    "\n",
    "for a in ax:\n",
    "    a.grid(True)\n",
    "    a.set_xlabel(\"Epoch\")\n",
    "    a.set_xticks(np.arange(0, _x.max()+1, 5))\n",
    "    a.set_ylabel(\"nb of Agents\")\n",
    "\n",
    "    ax[0].legend()\n",
    "    ax[1].legend(loc=\"lower right\")\n",
    "\n",
    "fig.tight_layout()"
   ]
  }
 ],
 "metadata": {
  "kernelspec": {
   "display_name": "waw-2024",
   "language": "python",
   "name": "waw-2024"
  },
  "language_info": {
   "codemirror_mode": {
    "name": "ipython",
    "version": 3
   },
   "file_extension": ".py",
   "mimetype": "text/x-python",
   "name": "python",
   "nbconvert_exporter": "python",
   "pygments_lexer": "ipython3",
   "version": "3.10.14"
  },
  "orig_nbformat": 4
 },
 "nbformat": 4,
 "nbformat_minor": 2
}
